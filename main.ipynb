{
 "cells": [
  {
   "cell_type": "markdown",
   "metadata": {},
   "source": [
    "# 作業 3-1\n",
    "\n",
    "- Name: **林啟允**\n",
    "- Student ID: **C44056223**\n",
    "- Final Edit Date: **2020/5/28**"
   ]
  },
  {
   "cell_type": "markdown",
   "metadata": {},
   "source": [
    "## Github\n",
    "\n",
    "- [Link](https://github.com/Chi-Yun-Lin/FDA_HW3_1)"
   ]
  },
  {
   "cell_type": "markdown",
   "metadata": {},
   "source": [
    "## 環境\n",
    "\n",
    "|環境|名稱|版本|\n",
    "|-|-|-|\n",
    "|作業系統|Ubuntu|16.04.6 LTS|\n",
    "|程式執行環境|jupyter notebook|1.0.0|\n",
    "|python 版本|python3|3.6.9|\n",
    "|安裝環境|pip|20.0.2|"
   ]
  },
  {
   "cell_type": "markdown",
   "metadata": {},
   "source": [
    "## 安裝\n",
    "\n",
    "```sh\n",
    "pip install -r requirements.txt\n",
    "```"
   ]
  },
  {
   "cell_type": "markdown",
   "metadata": {},
   "source": [
    "## 計算資源\n",
    "\n",
    "|計算資源|答案|\n",
    "|-|-|\n",
    "|使用 CPU 核心數|1|\n",
    "|記憶體需求|$\\leq 1$GB|\n",
    "|有無使用 GPU|無|\n",
    "|GPU 版本|無|\n",
    "|GPU 記憶體需求|$\\leq 1$GB|"
   ]
  },
  {
   "cell_type": "markdown",
   "metadata": {},
   "source": [
    "## 參考連結\n",
    "\n",
    "- 有無參考他人之實驗結果：無\n",
    "- 參考連結：\n",
    "    1. https://scikit-learn.org/stable/modules/generated/sklearn.linear_model.LogisticRegression.html (LogisticRegression 相關參數說明文件)\n",
    "    2. https://realpython.com/logistic-regression-python/ (Logistic Regression in Python)\n",
    "    3. https://scikit-learn.org/stable/modules/generated/sklearn.neural_network.MLPClassifier.html (MLPClassifier 相關參數說明文件)\n",
    "    4. https://www.jianshu.com/p/71fde5d90136 (sklearn 神經網路 MLPClassifier 簡單應用與參數說明)\n",
    "    5. https://scikit-learn.org/stable/modules/generated/sklearn.neighbors.KNeighborsClassifier.html#sklearn.neighbors.KNeighborsClassifier (KNeighborsClassifier 相關參數說明文件)"
   ]
  },
  {
   "cell_type": "code",
   "execution_count": 1,
   "metadata": {},
   "outputs": [],
   "source": [
    "# 請勿更動此區塊程式碼\n",
    "\n",
    "import time\n",
    "import numpy as np\n",
    "import pandas as pd\n",
    "\n",
    "EXECUTION_START_TIME = time.time() # 計算執行時間\n",
    "\n",
    "df = pd.read_csv('train.csv')      # 讀取資料，請勿更改路徑"
   ]
  },
  {
   "cell_type": "markdown",
   "metadata": {},
   "source": [
    "## 資料分析與前處理"
   ]
  },
  {
   "cell_type": "markdown",
   "metadata": {},
   "source": [
    "### 預覽訓練資料\n",
    "\n",
    "利用下面三種方式對訓練資料做一個初步認識，並得到以下資訊:\n",
    "- 2264 筆股票資料 (Row)\n",
    "- 6 種資料類型 (Column)\n",
    "- 不含缺失值\n",
    "- dtypes 為 object 有 1 個\n",
    "- 驗證測試的答案需要自行生成"
   ]
  },
  {
   "cell_type": "code",
   "execution_count": 2,
   "metadata": {},
   "outputs": [
    {
     "data": {
      "text/html": [
       "<div>\n",
       "<style scoped>\n",
       "    .dataframe tbody tr th:only-of-type {\n",
       "        vertical-align: middle;\n",
       "    }\n",
       "\n",
       "    .dataframe tbody tr th {\n",
       "        vertical-align: top;\n",
       "    }\n",
       "\n",
       "    .dataframe thead th {\n",
       "        text-align: right;\n",
       "    }\n",
       "</style>\n",
       "<table border=\"1\" class=\"dataframe\">\n",
       "  <thead>\n",
       "    <tr style=\"text-align: right;\">\n",
       "      <th></th>\n",
       "      <th>Date</th>\n",
       "      <th>Open Price</th>\n",
       "      <th>Close Price</th>\n",
       "      <th>High Price</th>\n",
       "      <th>Low Price</th>\n",
       "      <th>Volume</th>\n",
       "    </tr>\n",
       "  </thead>\n",
       "  <tbody>\n",
       "    <tr>\n",
       "      <th>0</th>\n",
       "      <td>02-Jan-2009</td>\n",
       "      <td>902.99</td>\n",
       "      <td>931.80</td>\n",
       "      <td>934.73</td>\n",
       "      <td>899.35</td>\n",
       "      <td>4048270080</td>\n",
       "    </tr>\n",
       "    <tr>\n",
       "      <th>1</th>\n",
       "      <td>05-Jan-2009</td>\n",
       "      <td>929.17</td>\n",
       "      <td>927.45</td>\n",
       "      <td>936.63</td>\n",
       "      <td>919.53</td>\n",
       "      <td>5413910016</td>\n",
       "    </tr>\n",
       "    <tr>\n",
       "      <th>2</th>\n",
       "      <td>06-Jan-2009</td>\n",
       "      <td>931.17</td>\n",
       "      <td>934.70</td>\n",
       "      <td>943.85</td>\n",
       "      <td>927.28</td>\n",
       "      <td>5392620032</td>\n",
       "    </tr>\n",
       "    <tr>\n",
       "      <th>3</th>\n",
       "      <td>07-Jan-2009</td>\n",
       "      <td>927.45</td>\n",
       "      <td>906.65</td>\n",
       "      <td>927.45</td>\n",
       "      <td>902.37</td>\n",
       "      <td>4704940032</td>\n",
       "    </tr>\n",
       "    <tr>\n",
       "      <th>4</th>\n",
       "      <td>08-Jan-2009</td>\n",
       "      <td>905.73</td>\n",
       "      <td>909.73</td>\n",
       "      <td>910.00</td>\n",
       "      <td>896.81</td>\n",
       "      <td>4991549952</td>\n",
       "    </tr>\n",
       "    <tr>\n",
       "      <th>5</th>\n",
       "      <td>09-Jan-2009</td>\n",
       "      <td>909.91</td>\n",
       "      <td>890.35</td>\n",
       "      <td>911.93</td>\n",
       "      <td>888.31</td>\n",
       "      <td>4716499968</td>\n",
       "    </tr>\n",
       "    <tr>\n",
       "      <th>6</th>\n",
       "      <td>12-Jan-2009</td>\n",
       "      <td>890.40</td>\n",
       "      <td>870.26</td>\n",
       "      <td>890.40</td>\n",
       "      <td>864.32</td>\n",
       "      <td>4725049856</td>\n",
       "    </tr>\n",
       "    <tr>\n",
       "      <th>7</th>\n",
       "      <td>13-Jan-2009</td>\n",
       "      <td>869.79</td>\n",
       "      <td>871.79</td>\n",
       "      <td>877.02</td>\n",
       "      <td>862.02</td>\n",
       "      <td>5017469952</td>\n",
       "    </tr>\n",
       "    <tr>\n",
       "      <th>8</th>\n",
       "      <td>14-Jan-2009</td>\n",
       "      <td>867.28</td>\n",
       "      <td>842.62</td>\n",
       "      <td>867.28</td>\n",
       "      <td>836.93</td>\n",
       "      <td>5407880192</td>\n",
       "    </tr>\n",
       "    <tr>\n",
       "      <th>9</th>\n",
       "      <td>15-Jan-2009</td>\n",
       "      <td>841.99</td>\n",
       "      <td>843.74</td>\n",
       "      <td>851.59</td>\n",
       "      <td>817.04</td>\n",
       "      <td>7807350272</td>\n",
       "    </tr>\n",
       "  </tbody>\n",
       "</table>\n",
       "</div>"
      ],
      "text/plain": [
       "          Date  Open Price  Close Price  High Price  Low Price      Volume\n",
       "0  02-Jan-2009      902.99       931.80      934.73     899.35  4048270080\n",
       "1  05-Jan-2009      929.17       927.45      936.63     919.53  5413910016\n",
       "2  06-Jan-2009      931.17       934.70      943.85     927.28  5392620032\n",
       "3  07-Jan-2009      927.45       906.65      927.45     902.37  4704940032\n",
       "4  08-Jan-2009      905.73       909.73      910.00     896.81  4991549952\n",
       "5  09-Jan-2009      909.91       890.35      911.93     888.31  4716499968\n",
       "6  12-Jan-2009      890.40       870.26      890.40     864.32  4725049856\n",
       "7  13-Jan-2009      869.79       871.79      877.02     862.02  5017469952\n",
       "8  14-Jan-2009      867.28       842.62      867.28     836.93  5407880192\n",
       "9  15-Jan-2009      841.99       843.74      851.59     817.04  7807350272"
      ]
     },
     "execution_count": 2,
     "metadata": {},
     "output_type": "execute_result"
    }
   ],
   "source": [
    "# 預覽訓練資料\n",
    "\n",
    "df.head(10)                                     # 預覽訓練資料前 10 筆"
   ]
  },
  {
   "cell_type": "code",
   "execution_count": 3,
   "metadata": {},
   "outputs": [
    {
     "name": "stdout",
     "output_type": "stream",
     "text": [
      "<class 'pandas.core.frame.DataFrame'>\n",
      "RangeIndex: 2264 entries, 0 to 2263\n",
      "Data columns (total 6 columns):\n",
      " #   Column       Non-Null Count  Dtype  \n",
      "---  ------       --------------  -----  \n",
      " 0   Date         2264 non-null   object \n",
      " 1   Open Price   2264 non-null   float64\n",
      " 2   Close Price  2264 non-null   float64\n",
      " 3   High Price   2264 non-null   float64\n",
      " 4   Low Price    2264 non-null   float64\n",
      " 5   Volume       2264 non-null   int64  \n",
      "dtypes: float64(4), int64(1), object(1)\n",
      "memory usage: 106.2+ KB\n"
     ]
    }
   ],
   "source": [
    "# 預覽訓練資料\n",
    "\n",
    "df.info()                                      # 輸出訓練資料型態與大小"
   ]
  },
  {
   "cell_type": "code",
   "execution_count": 4,
   "metadata": {},
   "outputs": [
    {
     "data": {
      "text/html": [
       "<div>\n",
       "<style scoped>\n",
       "    .dataframe tbody tr th:only-of-type {\n",
       "        vertical-align: middle;\n",
       "    }\n",
       "\n",
       "    .dataframe tbody tr th {\n",
       "        vertical-align: top;\n",
       "    }\n",
       "\n",
       "    .dataframe thead th {\n",
       "        text-align: right;\n",
       "    }\n",
       "</style>\n",
       "<table border=\"1\" class=\"dataframe\">\n",
       "  <thead>\n",
       "    <tr style=\"text-align: right;\">\n",
       "      <th></th>\n",
       "      <th>Open Price</th>\n",
       "      <th>Close Price</th>\n",
       "      <th>High Price</th>\n",
       "      <th>Low Price</th>\n",
       "      <th>Volume</th>\n",
       "    </tr>\n",
       "  </thead>\n",
       "  <tbody>\n",
       "    <tr>\n",
       "      <th>count</th>\n",
       "      <td>2264.000000</td>\n",
       "      <td>2264.000000</td>\n",
       "      <td>2264.000000</td>\n",
       "      <td>2264.000000</td>\n",
       "      <td>2.264000e+03</td>\n",
       "    </tr>\n",
       "    <tr>\n",
       "      <th>mean</th>\n",
       "      <td>1656.142686</td>\n",
       "      <td>1656.767562</td>\n",
       "      <td>1664.427054</td>\n",
       "      <td>1647.425128</td>\n",
       "      <td>2.948755e+09</td>\n",
       "    </tr>\n",
       "    <tr>\n",
       "      <th>std</th>\n",
       "      <td>485.292193</td>\n",
       "      <td>485.226120</td>\n",
       "      <td>484.808706</td>\n",
       "      <td>485.576116</td>\n",
       "      <td>1.351675e+09</td>\n",
       "    </tr>\n",
       "    <tr>\n",
       "      <th>min</th>\n",
       "      <td>679.280000</td>\n",
       "      <td>676.530000</td>\n",
       "      <td>695.270000</td>\n",
       "      <td>666.790000</td>\n",
       "      <td>5.181584e+08</td>\n",
       "    </tr>\n",
       "    <tr>\n",
       "      <th>25%</th>\n",
       "      <td>1238.602500</td>\n",
       "      <td>1239.337500</td>\n",
       "      <td>1246.695000</td>\n",
       "      <td>1227.587500</td>\n",
       "      <td>2.048980e+09</td>\n",
       "    </tr>\n",
       "    <tr>\n",
       "      <th>50%</th>\n",
       "      <td>1649.135000</td>\n",
       "      <td>1650.405000</td>\n",
       "      <td>1656.145000</td>\n",
       "      <td>1639.600000</td>\n",
       "      <td>2.506637e+09</td>\n",
       "    </tr>\n",
       "    <tr>\n",
       "      <th>75%</th>\n",
       "      <td>2070.300000</td>\n",
       "      <td>2071.190000</td>\n",
       "      <td>2079.507500</td>\n",
       "      <td>2058.757500</td>\n",
       "      <td>3.373334e+09</td>\n",
       "    </tr>\n",
       "    <tr>\n",
       "      <th>max</th>\n",
       "      <td>2692.710000</td>\n",
       "      <td>2690.160000</td>\n",
       "      <td>2694.970000</td>\n",
       "      <td>2685.920000</td>\n",
       "      <td>9.120100e+09</td>\n",
       "    </tr>\n",
       "  </tbody>\n",
       "</table>\n",
       "</div>"
      ],
      "text/plain": [
       "        Open Price  Close Price   High Price    Low Price        Volume\n",
       "count  2264.000000  2264.000000  2264.000000  2264.000000  2.264000e+03\n",
       "mean   1656.142686  1656.767562  1664.427054  1647.425128  2.948755e+09\n",
       "std     485.292193   485.226120   484.808706   485.576116  1.351675e+09\n",
       "min     679.280000   676.530000   695.270000   666.790000  5.181584e+08\n",
       "25%    1238.602500  1239.337500  1246.695000  1227.587500  2.048980e+09\n",
       "50%    1649.135000  1650.405000  1656.145000  1639.600000  2.506637e+09\n",
       "75%    2070.300000  2071.190000  2079.507500  2058.757500  3.373334e+09\n",
       "max    2692.710000  2690.160000  2694.970000  2685.920000  9.120100e+09"
      ]
     },
     "execution_count": 4,
     "metadata": {},
     "output_type": "execute_result"
    }
   ],
   "source": [
    "# 預覽訓練資料\n",
    "\n",
    "df.describe()                                  # 輸出訓練資料統計資訊"
   ]
  },
  {
   "cell_type": "markdown",
   "metadata": {},
   "source": [
    "### 資料視覺化\n",
    "\n",
    "- 將資料前 10 筆以折線圖呈現\n",
    "- 觀察開盤價格 (Open Price) 和收盤價格 (Close Price) 兩個特徵值，發現兩者被 High Price 和 Low Price 給 bound 在中間，且**今日開盤價格**和**昨日收盤價格**不會相差太遠，因此將開盤價格和收盤價格作為特徵值餵給模型應該可以找出關聯性"
   ]
  },
  {
   "cell_type": "code",
   "execution_count": 5,
   "metadata": {},
   "outputs": [
    {
     "data": {
      "image/png": "[encoded data removed]",
      "text/plain": [
       "<Figure size 432x288 with 1 Axes>"
      ]
     },
     "metadata": {
      "needs_background": "light"
     },
     "output_type": "display_data"
    }
   ],
   "source": [
    "# 資料視覺化\n",
    "\n",
    "import matplotlib.pyplot as plt               # 匯入資料視覺化模組\n",
    "\n",
    "x = df['Date'][:10]                           # 準備 x 軸資料\n",
    "y_open = df['Open Price'][:10]                # 準備 y 軸資料\n",
    "y_close = df['Close Price'][:10]              # \"\n",
    "y_high = df['High Price'][:10]                # \"\n",
    "y_low = df['Low Price'][:10]                  # \"\n",
    "\n",
    "plt.plot(x,                                   # 畫出 Open Price 折線圖\n",
    "         y_open,\n",
    "         marker='o',\n",
    "         label='Open Price')\n",
    "plt.plot(x,                                   # 畫出 Close Price 折線圖\n",
    "         y_close,\n",
    "         marker='D',\n",
    "         label='Close Price')\n",
    "plt.plot(x,                                   # 畫出 High Price 折線圖\n",
    "         y_high,\n",
    "         label='High Price')\n",
    "plt.plot(x,                                   # 畫出 Low Price 折線圖\n",
    "         y_low,\n",
    "         label='Low Price')\n",
    "plt.xticks(x, rotation=45)                    # 將 x label 旋轉 45 度\n",
    "plt.legend()                                  # 顯示添加的標示\n",
    "plt.show()                                    # 繪製圖表"
   ]
  },
  {
   "cell_type": "markdown",
   "metadata": {},
   "source": [
    "### 生成驗證測試的答案\n",
    "\n",
    "- 目標\n",
    "    - 以**每日收盤價相對於前一天的收盤價之漲跌**作為驗證測試的答案\n",
    "- 新增 RF pred 作為輸出結果"
   ]
  },
  {
   "cell_type": "markdown",
   "metadata": {},
   "source": [
    "### 加入特徵值\n",
    "\n",
    "- 以開盤價格 (Open Price) 及收盤價格 (Close Price) 作為特徵值，測試訓練結果"
   ]
  },
  {
   "cell_type": "code",
   "execution_count": 6,
   "metadata": {},
   "outputs": [
    {
     "name": "stderr",
     "output_type": "stream",
     "text": [
      "/mnt/d/py_36_env/lib/python3.6/site-packages/ipykernel_launcher.py:13: SettingWithCopyWarning: \n",
      "A value is trying to be set on a copy of a slice from a DataFrame\n",
      "\n",
      "See the caveats in the documentation: https://pandas.pydata.org/pandas-docs/stable/user_guide/indexing.html#returning-a-view-versus-a-copy\n",
      "  del sys.path[0]\n",
      "/mnt/d/py_36_env/lib/python3.6/site-packages/ipykernel_launcher.py:11: SettingWithCopyWarning: \n",
      "A value is trying to be set on a copy of a slice from a DataFrame\n",
      "\n",
      "See the caveats in the documentation: https://pandas.pydata.org/pandas-docs/stable/user_guide/indexing.html#returning-a-view-versus-a-copy\n",
      "  # This is added back by InteractiveShellApp.init_path()\n"
     ]
    },
    {
     "name": "stdout",
     "output_type": "stream",
     "text": [
      "<class 'pandas.core.frame.DataFrame'>\n",
      "RangeIndex: 2264 entries, 0 to 2263\n",
      "Data columns (total 2 columns):\n",
      " #   Column       Non-Null Count  Dtype  \n",
      "---  ------       --------------  -----  \n",
      " 0   Open Price   2264 non-null   float64\n",
      " 1   Close Price  2264 non-null   float64\n",
      "dtypes: float64(2)\n",
      "memory usage: 35.5 KB\n"
     ]
    },
    {
     "data": {
      "text/html": [
       "<div>\n",
       "<style scoped>\n",
       "    .dataframe tbody tr th:only-of-type {\n",
       "        vertical-align: middle;\n",
       "    }\n",
       "\n",
       "    .dataframe tbody tr th {\n",
       "        vertical-align: top;\n",
       "    }\n",
       "\n",
       "    .dataframe thead th {\n",
       "        text-align: right;\n",
       "    }\n",
       "</style>\n",
       "<table border=\"1\" class=\"dataframe\">\n",
       "  <thead>\n",
       "    <tr style=\"text-align: right;\">\n",
       "      <th></th>\n",
       "      <th>Open Price</th>\n",
       "      <th>Close Price</th>\n",
       "    </tr>\n",
       "  </thead>\n",
       "  <tbody>\n",
       "    <tr>\n",
       "      <th>0</th>\n",
       "      <td>902.99</td>\n",
       "      <td>931.80</td>\n",
       "    </tr>\n",
       "    <tr>\n",
       "      <th>1</th>\n",
       "      <td>929.17</td>\n",
       "      <td>927.45</td>\n",
       "    </tr>\n",
       "    <tr>\n",
       "      <th>2</th>\n",
       "      <td>931.17</td>\n",
       "      <td>934.70</td>\n",
       "    </tr>\n",
       "    <tr>\n",
       "      <th>3</th>\n",
       "      <td>927.45</td>\n",
       "      <td>906.65</td>\n",
       "    </tr>\n",
       "    <tr>\n",
       "      <th>4</th>\n",
       "      <td>905.73</td>\n",
       "      <td>909.73</td>\n",
       "    </tr>\n",
       "    <tr>\n",
       "      <th>5</th>\n",
       "      <td>909.91</td>\n",
       "      <td>890.35</td>\n",
       "    </tr>\n",
       "    <tr>\n",
       "      <th>6</th>\n",
       "      <td>890.40</td>\n",
       "      <td>870.26</td>\n",
       "    </tr>\n",
       "    <tr>\n",
       "      <th>7</th>\n",
       "      <td>869.79</td>\n",
       "      <td>871.79</td>\n",
       "    </tr>\n",
       "    <tr>\n",
       "      <th>8</th>\n",
       "      <td>867.28</td>\n",
       "      <td>842.62</td>\n",
       "    </tr>\n",
       "    <tr>\n",
       "      <th>9</th>\n",
       "      <td>841.99</td>\n",
       "      <td>843.74</td>\n",
       "    </tr>\n",
       "  </tbody>\n",
       "</table>\n",
       "</div>"
      ],
      "text/plain": [
       "   Open Price  Close Price\n",
       "0      902.99       931.80\n",
       "1      929.17       927.45\n",
       "2      931.17       934.70\n",
       "3      927.45       906.65\n",
       "4      905.73       909.73\n",
       "5      909.91       890.35\n",
       "6      890.40       870.26\n",
       "7      869.79       871.79\n",
       "8      867.28       842.62\n",
       "9      841.99       843.74"
      ]
     },
     "execution_count": 6,
     "metadata": {},
     "output_type": "execute_result"
    }
   ],
   "source": [
    "# 生成驗證測試的答案\n",
    "# 加入特徵值\n",
    "\n",
    "\n",
    "df['RF pred'] = 0                                              # 新增 Rising-Falling Prediction 的欄位並初始化為 0\n",
    "\n",
    "# 記錄與前一天的收盤價相比是漲 (Rising) 還跌 (Falling)\n",
    "# 1:漲, 0:跌\n",
    "for x in range(1,len(df)):\n",
    "    if df['Close Price'][x] > df['Close Price'][x-1]:          # 將前後兩天的 Close Price 做比較\n",
    "        df['RF pred'][x] = 1\n",
    "    else:\n",
    "        df['RF pred'][x] = 0\n",
    "\n",
    "\n",
    "train_x = df[['Open Price', 'Close Price']]                    # 取出訓練資料需要分析的資料欄位\n",
    "train_y = df['RF pred']                                        # 取出訓練資料的答案\n",
    "\n",
    "# 檢視訓練資料\n",
    "train_x.info()\n",
    "train_x.head(10)"
   ]
  },
  {
   "cell_type": "markdown",
   "metadata": {},
   "source": [
    "## 模型訓練\n",
    "\n",
    "使用 **5-fold cross validation** 對訓練資料先進行測試及驗證:\n",
    "1. Logistic Regression\n",
    "2. NN - Multilayer Perceptron Classifier\n",
    "3. K Nearest Neighbor Classifier\n",
    "\n",
    "使用**全部訓練資料**進行訓練:\n",
    "1. Logistic Regression\n",
    "2. NN - Multilayer Perceptron Classifier\n",
    "3. K Nearest Neighbor Classifier"
   ]
  },
  {
   "cell_type": "markdown",
   "metadata": {},
   "source": [
    "### 模型訓練 (Logistic Regression)\n",
    "\n",
    "觀察訓練結果，可發現訓練準確度和驗證準確度的誤差值約為 0.2%，且準確度大約有 93%"
   ]
  },
  {
   "cell_type": "code",
   "execution_count": 7,
   "metadata": {},
   "outputs": [
    {
     "name": "stdout",
     "output_type": "stream",
     "text": [
      "average train accuracy: 0.9382728554833536\n",
      "    min train accuracy: 0.9331860850358917\n",
      "    max train accuracy: 0.9403644395361679\n",
      "average valid accuracy: 0.935949129695833\n",
      "    min valid accuracy: 0.9247787610619469\n",
      "    max valid accuracy: 0.9580573951434879\n"
     ]
    }
   ],
   "source": [
    "# 模型訓練 LR\n",
    "\n",
    "from sklearn.model_selection import KFold             # 匯入 K 次交叉驗證工具\n",
    "from sklearn.linear_model import LogisticRegression   # 匯入邏輯迴歸模型\n",
    "from sklearn.metrics import accuracy_score            # 匯入準確度計算工具\n",
    "\n",
    "kf = KFold(n_splits=5,                                # 設定 K 值\n",
    "           random_state=1012,\n",
    "           shuffle=True)\n",
    "kf.get_n_splits(train_x)                              # 給予資料範圍\n",
    "\n",
    "train_acc_list = []                                   # 儲存每次訓練模型的準確度\n",
    "valid_acc_list = []                                   # 儲存每次驗證模型的準確度\n",
    "\n",
    "for train_index, valid_index in kf.split(train_x):    # 每個迴圈都會產生不同部份的資料\n",
    "    train_x_split = train_x.iloc[train_index]         # 產生訓練資料\n",
    "    train_y_split = train_y.iloc[train_index]         # 產生訓練資料標籤\n",
    "    valid_x_split = train_x.iloc[valid_index]         # 產生驗證資料\n",
    "    valid_y_split = train_y.iloc[valid_index]         # 產生驗證資料標籤\n",
    "    \n",
    "    model_LR = LogisticRegression(                    # 創造邏輯迴歸模型\n",
    "        solver='liblinear',\n",
    "        random_state=1012)\n",
    "    model_LR.fit(train_x_split, train_y_split)        # 訓練邏輯迴歸模型\n",
    "    \n",
    "    train_pred_y = model_LR.predict(train_x_split)    # 確認模型是否訓練成功\n",
    "    train_acc = accuracy_score(train_y_split,         # 計算訓練資料準確度\n",
    "                               train_pred_y)\n",
    "    valid_pred_y = model_LR.predict(valid_x_split)    # 驗證模型是否訓練成功\n",
    "    valid_acc = accuracy_score(valid_y_split,         # 計算驗證資料準確度\n",
    "                               valid_pred_y)\n",
    "    \n",
    "    train_acc_list.append(train_acc)\n",
    "    valid_acc_list.append(valid_acc)\n",
    "\n",
    "print((\n",
    "    'average train accuracy: {}\\n' +\n",
    "    '    min train accuracy: {}\\n' +\n",
    "    '    max train accuracy: {}\\n' +\n",
    "    'average valid accuracy: {}\\n' +\n",
    "    '    min valid accuracy: {}\\n' +\n",
    "    '    max valid accuracy: {}').format(\n",
    "    np.mean(train_acc_list),                          # 輸出平均訓練準確度\n",
    "    np.min(train_acc_list),                           # 輸出最低訓練準確度\n",
    "    np.max(train_acc_list),                           # 輸出最高訓練準確度\n",
    "    np.mean(valid_acc_list),                          # 輸出平均驗證準確度\n",
    "    np.min(valid_acc_list),                           # 輸出最低驗證準確度\n",
    "    np.max(valid_acc_list)                            # 輸出最高驗證準確度\n",
    "))"
   ]
  },
  {
   "cell_type": "markdown",
   "metadata": {},
   "source": [
    "### 模型訓練 (NN - Multilayer Perceptron Classifier)\n",
    "\n",
    "觀察訓練結果發現，訓練準確度約在 50%±10%，明顯為 underfitting"
   ]
  },
  {
   "cell_type": "code",
   "execution_count": 8,
   "metadata": {},
   "outputs": [
    {
     "name": "stdout",
     "output_type": "stream",
     "text": [
      "average train accuracy: 0.5459362882946136\n",
      "    min train accuracy: 0.5400331308669244\n",
      "    max train accuracy: 0.5516289342904472\n",
      "average valid accuracy: 0.5459346734650022\n",
      "    min valid accuracy: 0.5231788079470199\n",
      "    max valid accuracy: 0.5695364238410596\n"
     ]
    }
   ],
   "source": [
    "# 模型訓練 NN\n",
    "\n",
    "from sklearn.model_selection import KFold             # 匯入 K 次交叉驗證工具\n",
    "from sklearn.neural_network import MLPClassifier      # 匯入多層感知分類器模型\n",
    "from sklearn.metrics import accuracy_score            # 匯入準確度計算工具\n",
    "\n",
    "kf = KFold(n_splits=5,                                # 設定 K 值\n",
    "           random_state=1012,\n",
    "           shuffle=True)\n",
    "kf.get_n_splits(train_x)                              # 給予資料範圍\n",
    "\n",
    "train_acc_list = []                                   # 儲存每次訓練模型的準確度\n",
    "valid_acc_list = []                                   # 儲存每次驗證模型的準確度\n",
    "\n",
    "for train_index, valid_index in kf.split(train_x):    # 每個迴圈都會產生不同部份的資料\n",
    "    train_x_split = train_x.iloc[train_index]         # 產生訓練資料\n",
    "    train_y_split = train_y.iloc[train_index]         # 產生訓練資料標籤\n",
    "    valid_x_split = train_x.iloc[valid_index]         # 產生驗證資料\n",
    "    valid_y_split = train_y.iloc[valid_index]         # 產生驗證資料標籤\n",
    "    \n",
    "    model_MLP = MLPClassifier(                        # 創造多層感知分類器模型\n",
    "        alpha = 1e-5,\n",
    "        hidden_layer_sizes=(5, 3),\n",
    "        random_state=1012,\n",
    "        early_stopping=True)\n",
    "    model_MLP.fit(train_x_split, train_y_split)       # 訓練多層感知分類器模型\n",
    "    \n",
    "    train_pred_y = model_MLP.predict(train_x_split)   # 確認模型是否訓練成功\n",
    "    train_acc = accuracy_score(train_y_split,         # 計算訓練資料準確度\n",
    "                               train_pred_y)\n",
    "    valid_pred_y = model_MLP.predict(valid_x_split)   # 驗證模型是否訓練成功\n",
    "    valid_acc = accuracy_score(valid_y_split,         # 計算驗證資料準確度\n",
    "                               valid_pred_y)\n",
    "    \n",
    "    train_acc_list.append(train_acc)\n",
    "    valid_acc_list.append(valid_acc)\n",
    "\n",
    "print((\n",
    "    'average train accuracy: {}\\n' +\n",
    "    '    min train accuracy: {}\\n' +\n",
    "    '    max train accuracy: {}\\n' +\n",
    "    'average valid accuracy: {}\\n' +\n",
    "    '    min valid accuracy: {}\\n' +\n",
    "    '    max valid accuracy: {}').format(\n",
    "    np.mean(train_acc_list),                          # 輸出平均訓練準確度\n",
    "    np.min(train_acc_list),                           # 輸出最低訓練準確度\n",
    "    np.max(train_acc_list),                           # 輸出最高訓練準確度\n",
    "    np.mean(valid_acc_list),                          # 輸出平均驗證準確度\n",
    "    np.min(valid_acc_list),                           # 輸出最低驗證準確度\n",
    "    np.max(valid_acc_list)                            # 輸出最高驗證準確度\n",
    "))"
   ]
  },
  {
   "cell_type": "markdown",
   "metadata": {},
   "source": [
    "### 模型訓練 (K Nearest Neighbor Classifier)\n",
    "\n",
    "觀察訓練結果發現，當 KNeighborsClassifier 的參數 n_neighbors 小於 3 時，會有 overfitting 的問題產生，建議使用 default 的 5"
   ]
  },
  {
   "cell_type": "code",
   "execution_count": 9,
   "metadata": {},
   "outputs": [
    {
     "name": "stdout",
     "output_type": "stream",
     "text": [
      "average train accuracy: 0.9128752667961184\n",
      "    min train accuracy: 0.90944229707344\n",
      "    max train accuracy: 0.9177250138045279\n",
      "average valid accuracy: 0.8259714001054915\n",
      "    min valid accuracy: 0.7880794701986755\n",
      "    max valid accuracy: 0.8565121412803532\n"
     ]
    }
   ],
   "source": [
    "# 模型訓練 KNN\n",
    "\n",
    "from sklearn.model_selection import KFold             # 匯入 K 次交叉驗證工具\n",
    "from sklearn.neighbors import KNeighborsClassifier    # 匯入 K 個最近鄰分類器模型\n",
    "from sklearn.metrics import accuracy_score            # 匯入準確度計算工具\n",
    "\n",
    "kf = KFold(n_splits=5,                                # 設定 K 值\n",
    "           random_state=1012,\n",
    "           shuffle=True)\n",
    "kf.get_n_splits(train_x)                              # 給予資料範圍\n",
    "\n",
    "train_acc_list = []                                   # 儲存每次訓練模型的準確度\n",
    "valid_acc_list = []                                   # 儲存每次驗證模型的準確度\n",
    "\n",
    "for train_index, valid_index in kf.split(train_x):    # 每個迴圈都會產生不同部份的資料\n",
    "    train_x_split = train_x.iloc[train_index]         # 產生訓練資料\n",
    "    train_y_split = train_y.iloc[train_index]         # 產生訓練資料標籤\n",
    "    valid_x_split = train_x.iloc[valid_index]         # 產生驗證資料\n",
    "    valid_y_split = train_y.iloc[valid_index]         # 產生驗證資料標籤\n",
    "    \n",
    "    model_KNC = KNeighborsClassifier(                 # 創造 K 個最近鄰分類器模型\n",
    "        n_neighbors=5)\n",
    "    model_KNC.fit(train_x_split, train_y_split)       # 訓練 K 個最近鄰分類器模型\n",
    "    \n",
    "    train_pred_y = model_KNC.predict(train_x_split)   # 確認模型是否訓練成功\n",
    "    train_acc = accuracy_score(train_y_split,         # 計算訓練資料準確度\n",
    "                               train_pred_y)\n",
    "    valid_pred_y = model_KNC.predict(valid_x_split)   # 驗證模型是否訓練成功\n",
    "    valid_acc = accuracy_score(valid_y_split,         # 計算驗證資料準確度\n",
    "                               valid_pred_y)\n",
    "    \n",
    "    train_acc_list.append(train_acc)\n",
    "    valid_acc_list.append(valid_acc)\n",
    "\n",
    "print((\n",
    "    'average train accuracy: {}\\n' +\n",
    "    '    min train accuracy: {}\\n' +\n",
    "    '    max train accuracy: {}\\n' +\n",
    "    'average valid accuracy: {}\\n' +\n",
    "    '    min valid accuracy: {}\\n' +\n",
    "    '    max valid accuracy: {}').format(\n",
    "    np.mean(train_acc_list),                          # 輸出平均訓練準確度\n",
    "    np.min(train_acc_list),                           # 輸出最低訓練準確度\n",
    "    np.max(train_acc_list),                           # 輸出最高訓練準確度\n",
    "    np.mean(valid_acc_list),                          # 輸出平均驗證準確度\n",
    "    np.min(valid_acc_list),                           # 輸出最低驗證準確度\n",
    "    np.max(valid_acc_list)                            # 輸出最高驗證準確度\n",
    "))"
   ]
  },
  {
   "cell_type": "markdown",
   "metadata": {},
   "source": [
    "### 使用所有資料進行訓練\n",
    "\n",
    "從下面三種模型的訓練結果可以發現，Logistic Regression 和 K Nearest Neighbor Classifier 的準確度都很高，但若加入上方 cross validation 後的結果，明顯可以得出一個結論:\n",
    "- Logistic Regression 明顯完勝另外兩種 classifiers，較沒有 overfitting 和 underfitting 的問題"
   ]
  },
  {
   "cell_type": "markdown",
   "metadata": {},
   "source": [
    "#### Logistic Regression"
   ]
  },
  {
   "cell_type": "code",
   "execution_count": 10,
   "metadata": {},
   "outputs": [
    {
     "name": "stdout",
     "output_type": "stream",
     "text": [
      "accuracy: 0.9368374558303887\n"
     ]
    }
   ],
   "source": [
    "# 使用 LogisticRegression\n",
    "\n",
    "from sklearn.linear_model import LogisticRegression   # 匯入邏輯迴歸模型\n",
    "\n",
    "model_LR.fit(train_x, train_y)                        # 訓練集合學習模型\n",
    "\n",
    "pred_y = model_LR.predict(train_x)                    # 確認模型是否訓練成功\n",
    "acc = accuracy_score(train_y, pred_y)                 # 計算準確度\n",
    "\n",
    "print('accuracy: {}'.format(acc))                     # 輸出準確度"
   ]
  },
  {
   "cell_type": "markdown",
   "metadata": {},
   "source": [
    "#### Multilayer Perceptron Classifier"
   ]
  },
  {
   "cell_type": "code",
   "execution_count": 11,
   "metadata": {},
   "outputs": [
    {
     "name": "stdout",
     "output_type": "stream",
     "text": [
      "accuracy: 0.5459363957597173\n"
     ]
    }
   ],
   "source": [
    "# 使用 MLPClassifier\n",
    "\n",
    "from sklearn.neural_network import MLPClassifier      # 匯入多層感知分類器模型\n",
    "\n",
    "model_MLP.fit(train_x, train_y)                       # 訓練支援向量機模型\n",
    "\n",
    "pred_y = model_MLP.predict(train_x)                   # 確認模型是否訓練成功\n",
    "acc = accuracy_score(train_y, pred_y)                 # 計算準確度\n",
    "\n",
    "print('accuracy: {}'.format(acc))                     # 輸出準確度"
   ]
  },
  {
   "cell_type": "markdown",
   "metadata": {},
   "source": [
    "#### K Nearest Neighbor Classifier"
   ]
  },
  {
   "cell_type": "code",
   "execution_count": 12,
   "metadata": {},
   "outputs": [
    {
     "name": "stdout",
     "output_type": "stream",
     "text": [
      "accuracy: 0.9204946996466431\n"
     ]
    }
   ],
   "source": [
    "# 使用 KNeighborsClassifier\n",
    "\n",
    "from sklearn.neighbors import KNeighborsClassifier    # 匯入 K 個最近鄰分類器模型\n",
    "\n",
    "model_KNC.fit(train_x, train_y)                       # 訓練決策樹模型\n",
    "\n",
    "pred_y = model_KNC.predict(train_x)                   # 確認模型是否訓練成功\n",
    "acc = accuracy_score(train_y, pred_y)                 # 計算準確度\n",
    "\n",
    "print('accuracy: {}'.format(acc))                     # 輸出準確度"
   ]
  },
  {
   "cell_type": "markdown",
   "metadata": {},
   "source": [
    "## 套用模型至 Testing Set"
   ]
  },
  {
   "cell_type": "markdown",
   "metadata": {},
   "source": [
    "### 測試資料分析與前處理\n",
    "\n",
    "得到資訊:\n",
    "- 252 筆股票資料 (Row)\n",
    "- 6 種資料類型 (Column)\n",
    "- 不含缺失值\n",
    "- dtypes 為 object 有 1 個\n",
    "- 驗證測試的答案需要自行生成"
   ]
  },
  {
   "cell_type": "code",
   "execution_count": 13,
   "metadata": {},
   "outputs": [
    {
     "name": "stdout",
     "output_type": "stream",
     "text": [
      "<class 'pandas.core.frame.DataFrame'>\n",
      "RangeIndex: 252 entries, 0 to 251\n",
      "Data columns (total 6 columns):\n",
      " #   Column       Non-Null Count  Dtype  \n",
      "---  ------       --------------  -----  \n",
      " 0   Date         252 non-null    object \n",
      " 1   Open Price   252 non-null    float64\n",
      " 2   Close Price  252 non-null    float64\n",
      " 3   High Price   252 non-null    float64\n",
      " 4   Low Price    252 non-null    float64\n",
      " 5   Volume       252 non-null    int64  \n",
      "dtypes: float64(4), int64(1), object(1)\n",
      "memory usage: 11.9+ KB\n"
     ]
    }
   ],
   "source": [
    "df_test = pd.read_csv('test.csv')                    # 讀取測試資料\n",
    "\n",
    "df_test.info()                                       # 預覽測試資料"
   ]
  },
  {
   "cell_type": "markdown",
   "metadata": {},
   "source": [
    "### 加入特徵值"
   ]
  },
  {
   "cell_type": "code",
   "execution_count": 14,
   "metadata": {},
   "outputs": [
    {
     "name": "stderr",
     "output_type": "stream",
     "text": [
      "/mnt/d/py_36_env/lib/python3.6/site-packages/ipykernel_launcher.py:7: SettingWithCopyWarning: \n",
      "A value is trying to be set on a copy of a slice from a DataFrame\n",
      "\n",
      "See the caveats in the documentation: https://pandas.pydata.org/pandas-docs/stable/user_guide/indexing.html#returning-a-view-versus-a-copy\n",
      "  import sys\n",
      "/mnt/d/py_36_env/lib/python3.6/site-packages/ipykernel_launcher.py:9: SettingWithCopyWarning: \n",
      "A value is trying to be set on a copy of a slice from a DataFrame\n",
      "\n",
      "See the caveats in the documentation: https://pandas.pydata.org/pandas-docs/stable/user_guide/indexing.html#returning-a-view-versus-a-copy\n",
      "  if __name__ == '__main__':\n"
     ]
    }
   ],
   "source": [
    "df_test['RF pred'] = 0                                               # 新增 Rising-Falling Prediction 的欄位並初始化為 0\n",
    "\n",
    "# 記錄與前一天的收盤價相比是漲 (Rising) 還跌 (Falling)\n",
    "# 1:漲, 0:跌\n",
    "for x in range(1,len(df_test)):\n",
    "    if df_test['Close Price'][x] > df_test['Close Price'][x-1]:      # 將前後兩天的 Close Price 做比較\n",
    "        df_test['RF pred'][x] = 1\n",
    "    else:\n",
    "        df_test['RF pred'][x] = 0\n",
    "\n",
    "\n",
    "test_x = df_test[['Open Price', 'Close Price']]                      # 取出測試資料需要分析的資料欄位\n",
    "test_y = df_test['RF pred']                                          # 取出測試資料的答案"
   ]
  },
  {
   "cell_type": "markdown",
   "metadata": {},
   "source": [
    "### 進行預測並輸出準確度"
   ]
  },
  {
   "cell_type": "markdown",
   "metadata": {},
   "source": [
    "#### Logistic Regression"
   ]
  },
  {
   "cell_type": "code",
   "execution_count": 15,
   "metadata": {},
   "outputs": [
    {
     "name": "stdout",
     "output_type": "stream",
     "text": [
      "accuracy: 0.8253968253968254\n"
     ]
    }
   ],
   "source": [
    "# 使用 LogisticRegression\n",
    "\n",
    "from sklearn.linear_model import LogisticRegression   # 匯入邏輯迴歸模型\n",
    "\n",
    "model_LR.fit(train_x, train_y)                        # 訓練集合學習模型\n",
    "\n",
    "pred_y = model_LR.predict(test_x)                     # 確認模型是否訓練成功 (note: 要改成 test_x)\n",
    "acc = accuracy_score(test_y, pred_y)                  # 計算準確度           (note: 要改成 test_y)\n",
    "\n",
    "print('accuracy: {}'.format(acc))                     # 輸出準確度"
   ]
  },
  {
   "cell_type": "markdown",
   "metadata": {},
   "source": [
    "#### Multilayer Perceptron Classifier"
   ]
  },
  {
   "cell_type": "code",
   "execution_count": 16,
   "metadata": {},
   "outputs": [
    {
     "name": "stdout",
     "output_type": "stream",
     "text": [
      "accuracy: 0.5198412698412699\n"
     ]
    }
   ],
   "source": [
    "# 使用 MLPClassifier\n",
    "\n",
    "from sklearn.neural_network import MLPClassifier      # 匯入多層感知分類器模型\n",
    "\n",
    "model_MLP.fit(train_x, train_y)                       # 訓練支援向量機模型\n",
    "\n",
    "pred_y = model_MLP.predict(test_x)                    # 確認模型是否訓練成功 (note: 要改成 test_x)\n",
    "acc = accuracy_score(test_y, pred_y)                  # 計算準確度           (note: 要改成 test_y)\n",
    "\n",
    "print('accuracy: {}'.format(acc))                     # 輸出準確度"
   ]
  },
  {
   "cell_type": "markdown",
   "metadata": {},
   "source": [
    "#### K Nearest Neighbor Classifier"
   ]
  },
  {
   "cell_type": "code",
   "execution_count": 17,
   "metadata": {},
   "outputs": [
    {
     "name": "stdout",
     "output_type": "stream",
     "text": [
      "accuracy: 0.7817460317460317\n"
     ]
    }
   ],
   "source": [
    "# 使用 KNeighborsClassifier\n",
    "\n",
    "from sklearn.neighbors import KNeighborsClassifier    # 匯入 K 個最近鄰分類器模型\n",
    "\n",
    "model_KNC.fit(train_x, train_y)                       # 訓練決策樹模型\n",
    "\n",
    "pred_y = model_KNC.predict(test_x)                    # 確認模型是否訓練成功 (note: 要改成 test_x)\n",
    "acc = accuracy_score(test_y, pred_y)                  # 計算準確度           (note: 要改成 test_y)\n",
    "\n",
    "print('accuracy: {}'.format(acc))                     # 輸出準確度"
   ]
  },
  {
   "cell_type": "markdown",
   "metadata": {},
   "source": [
    "## Discussion\n",
    "\n",
    "- Which classifier reaches the highest classification accuracy in this dataset ?\n",
    "    - Logistic Regression 在三種 classifiers 中預測的結果準確度最高\n",
    "    - 而之所以 Logistic Regression 在這次的預測中表現較另外兩種亮眼，可能取決於兩個點:\n",
    "        1. 特徵值選的好\n",
    "        2. 需要預測的結果比較單純，只有漲或跌\n",
    "    - Logistic Regression 在進行這種二分式的分類問題，實際上都能有不錯的效果，因此它的準確度高也是預料中的結果；但如果需要進行三種以上的分類問題，效果可能就不是那麼顯著了\n",
    "- How did you improve your classifiers ?\n",
    "    - 選用不同的特徵值\n",
    "    - 嘗試改變超參數的值"
   ]
  },
  {
   "cell_type": "code",
   "execution_count": 18,
   "metadata": {},
   "outputs": [
    {
     "name": "stdout",
     "output_type": "stream",
     "text": [
      "total execution time: 5.130941152572632\n"
     ]
    }
   ],
   "source": [
    "# 請勿更動此區塊程式碼\n",
    "\n",
    "EXECUTION_END_TIME = time.time() # 計算執行時間\n",
    "print('total execution time: {}'.format(EXECUTION_END_TIME - EXECUTION_START_TIME))"
   ]
  }
 ],
 "metadata": {
  "kernelspec": {
   "display_name": "py_36_env",
   "language": "python",
   "name": "py_36_env"
  },
  "language_info": {
   "codemirror_mode": {
    "name": "ipython",
    "version": 3
   },
   "file_extension": ".py",
   "mimetype": "text/x-python",
   "name": "python",
   "nbconvert_exporter": "python",
   "pygments_lexer": "ipython3",
   "version": "3.6.10"
  }
 },
 "nbformat": 4,
 "nbformat_minor": 4
}
